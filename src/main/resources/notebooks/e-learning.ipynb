{
 "cells": [
  {
   "cell_type": "markdown",
   "metadata": {},
   "source": [
    "# EVER-EST e-learning resources"
   ]
  },
  {
   "cell_type": "markdown",
   "metadata": {},
   "source": [
    "## <a name=\"quicklink\">Quick link"
   ]
  },
  {
   "cell_type": "markdown",
   "metadata": {},
   "source": [
    "* [01 Access Sentinel-1 product information and metadata](#01)\n",
    "* [02 Plot Sentinel-1 subset](#02)\n",
    "* [03 Making and using bathymetric maps in R with marmap](#03)\n",
    "* [04 Sentinel-2 vegetation indices over Camargue](#04)\n",
    "* [05 Flood mapping with Sentinel-1](#05)\n",
    "* [06 Preprocessing of Sentinel-1 SAR data](#06)\n",
    "* [07 Algal bloom detection in MERIS FRS products with SNAP](#07)\n",
    "* [08 Sentinel-3 hands-on](#08)"
   ]
  },
  {
   "cell_type": "markdown",
   "metadata": {},
   "source": [
    "### <a name=\"01\">01 Access Sentinel-1 product information and metadata"
   ]
  },
  {
   "cell_type": "markdown",
   "metadata": {},
   "source": [
    "This e-learning module targets a simple hands-on lesson on Sentinel-1 data and the Sentinel-1 Toolbox (S1TBX) which is part of the Sentinel Application Platform (SNAP). \n",
    "\n",
    "The S1TBX consists of a collection of processing tools, data product readers and writers and a display and analysis application to support the large archive of data from ESA SAR missions including SENTINEL-1, ERS-1 & 2 and ENVISAT, as well as third party SAR data from ALOS PALSAR, TerraSAR-X, COSMO-SkyMed and RADARSAT-2. \n",
    "\n",
    "This module uses snappy that provides the access to the SNAP Java API from Python.\n",
    "\n",
    "This module opens a Sentinel-1 GRD product and extracts a few metadata fields and product information.\n",
    "\n",
    "Module level: beginner\n",
    "\n",
    "[Go!](01%20Access%20Sentinel-1%20product%20information%20and%20metadata.ipynb)"
   ]
  },
  {
   "cell_type": "markdown",
   "metadata": {},
   "source": [
    "### <a name=\"02\">02 Plot Sentinel-1 subset"
   ]
  },
  {
   "cell_type": "markdown",
   "metadata": {},
   "source": [
    "This e-learning module targets a simple hands-on lesson on Sentinel-1 data and the Sentinel-1 Toolbox.\n",
    "\n",
    "This module uses snappy to process the Sentinel-1 GRD product. It opens a Sentinel-1 GRD product and extracts a subset product defined with a radar coordinate and extent. \n",
    "\n",
    "This eases any subsequent processing tasks (e.g. change detection for the identification of a flood extent). \n",
    "\n",
    "Module level: beginner\n",
    "\n",
    "[Go!](02%20Plot%20Sentinel-1%20subset.ipynb)"
   ]
  },
  {
   "cell_type": "markdown",
   "metadata": {},
   "source": [
    "### <a name=\"03\">03 Making and using bathymetric maps in R with marmap"
   ]
  },
  {
   "cell_type": "markdown",
   "metadata": {},
   "source": [
    "Module level: intermediate\n",
    "\n",
    "[Go!](03%20Making%20and%20using%20bathymetric%20maps%20in%20R%20with%20marmap.ipynb)"
   ]
  },
  {
   "cell_type": "markdown",
   "metadata": {},
   "source": [
    "### <a name=\"04\">04 Sentinel-2 vegetation indices over Camargue"
   ]
  },
  {
   "cell_type": "markdown",
   "metadata": {},
   "source": [
    "This e-learning module implements a workflow to process a number of vegetation indices from Sentinel-2 data. This module also uses snappy and the S2TBX.\n",
    "\n",
    "Vegetation indices are a spectral transformation of two or more bands designed to enhance the contribution of vegetation properties and allow reliable spatial and temporal intercomparisons of terrestrial photosynthetic activity and canopy structural variations.\n",
    "\n",
    "Module level: intermediate\n",
    "\n",
    "[Go!](04%20Sentinel-2%20vegetation%20indices%20over%20Camargue.ipynb)"
   ]
  },
  {
   "cell_type": "markdown",
   "metadata": {},
   "source": [
    "### <a name=\"05\">05 Flood mapping with Sentinel-1"
   ]
  },
  {
   "cell_type": "markdown",
   "metadata": {},
   "source": [
    "This e-learning module implements a complex workflow to identify the flood extent using Sentinel-1 data. This module also uses snappy to process the Sentinel-1 GRD product.\n",
    "The use of SAR satellite imagery for change detection dedicated to flood extent mapping constitutes a viable solution to process images quickly, providing near real-time flooding information to relief agencies. Moreover, flood extent information can be used for damage assessment and risk management creating scenarios showing potential population, economic activities and the environment at potential risk from flooding.\n",
    "\n",
    "Module level: advanced\n",
    "\n",
    "[Go!](05%20Flood%20mapping%20with%20Sentinel-1.ipynb)"
   ]
  },
  {
   "cell_type": "markdown",
   "metadata": {},
   "source": [
    "### <a name=\"06\">06 Preprocessing of Sentinel-1 SAR data"
   ]
  },
  {
   "cell_type": "markdown",
   "metadata": {},
   "source": [
    "Module level: beginner\n",
    "\n",
    "[Go!](06%20Preprocessing%20of%20Sentinel-1%20SAR%20data.ipynb)"
   ]
  },
  {
   "cell_type": "markdown",
   "metadata": {},
   "source": [
    "### <a name=\"07\">07 Algal bloom detection in MERIS FRS products with SNAP"
   ]
  },
  {
   "cell_type": "markdown",
   "metadata": {},
   "source": [
    "Module level: intermediate\n",
    "\n",
    "[Go!](07%20Algal%20bloom%20detection%20in%20MERIS%20FRS%20products%20with%20SNAP.ipynb)"
   ]
  },
  {
   "cell_type": "markdown",
   "metadata": {},
   "source": [
    "### <a name=\"08\">08 Sentinel-3 hands-on"
   ]
  },
  {
   "cell_type": "markdown",
   "metadata": {},
   "source": [
    "Module level: intermediate\n",
    "\n",
    "[Go!](08%20Sentinel-3%20hands-on.ipynb)"
   ]
  },
  {
   "cell_type": "code",
   "execution_count": null,
   "metadata": {
    "collapsed": true
   },
   "outputs": [],
   "source": []
  }
 ],
 "metadata": {
  "kernelspec": {
   "display_name": "Python 2",
   "language": "python",
   "name": "python2"
  },
  "language_info": {
   "codemirror_mode": {
    "name": "ipython",
    "version": 2
   },
   "file_extension": ".py",
   "mimetype": "text/x-python",
   "name": "python",
   "nbconvert_exporter": "python",
   "pygments_lexer": "ipython2",
   "version": "2.7.11"
  },
  "widgets": {
   "state": {},
   "version": "1.1.2"
  }
 },
 "nbformat": 4,
 "nbformat_minor": 0
}
